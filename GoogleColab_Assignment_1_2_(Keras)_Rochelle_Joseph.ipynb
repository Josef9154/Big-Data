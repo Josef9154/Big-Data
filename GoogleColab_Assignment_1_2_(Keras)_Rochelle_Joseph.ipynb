{
  "nbformat": 4,
  "nbformat_minor": 0,
  "metadata": {
    "colab": {
      "name": "Assignment 1.2 (Keras) Rochelle_Joseph.ipynb",
      "provenance": [],
      "authorship_tag": "ABX9TyMll5wkOk3tOjNnauxdzrqd",
      "include_colab_link": true
    },
    "kernelspec": {
      "name": "python3",
      "display_name": "Python 3"
    },
    "language_info": {
      "name": "python"
    }
  },
  "cells": [
    {
      "cell_type": "markdown",
      "metadata": {
        "id": "view-in-github",
        "colab_type": "text"
      },
      "source": [
        "<a href=\"https://colab.research.google.com/github/Josef9154/Big-Data/blob/main/GoogleColab_Assignment_1_2_(Keras)_Rochelle_Joseph.ipynb\" target=\"_parent\"><img src=\"https://colab.research.google.com/assets/colab-badge.svg\" alt=\"Open In Colab\"/></a>"
      ]
    },
    {
      "cell_type": "code",
      "metadata": {
        "colab": {
          "base_uri": "https://localhost:8080/"
        },
        "id": "Q1XUuObgy5Ui",
        "outputId": "6e4ee895-fe3d-4ba2-bc09-1243702a2aff"
      },
      "source": [
        "'''Trains a simple deep NN on the MNIST dataset.\n",
        "Gets to 98.40% test accuracy after 20 epochs\n",
        "(there is *a lot* of margin for parameter tuning).\n",
        "2 seconds per epoch on a K520 GPU.\n",
        "'''\n",
        "\n",
        "from tensorflow import keras\n",
        "from tensorflow.keras.datasets import mnist\n",
        "from tensorflow.keras.models import Sequential\n",
        "from tensorflow.keras.layers import Dense, Dropout\n",
        "from tensorflow.keras.optimizers import RMSprop\n",
        "\n",
        "batch_size = 128\n",
        "num_classes = 10\n",
        "epochs = 20\n",
        "\n",
        "# the data, split between train and test sets\n",
        "(x_train, y_train), (x_test, y_test) = mnist.load_data()\n",
        "\n",
        "x_train = x_train.reshape(60000, 784)\n",
        "x_test = x_test.reshape(10000, 784)\n",
        "x_train = x_train.astype('float32')\n",
        "x_test = x_test.astype('float32')\n",
        "x_train /= 255\n",
        "x_test /= 255\n",
        "print(x_train.shape[0], 'train samples')\n",
        "print(x_test.shape[0], 'test samples')\n",
        "\n",
        "# convert class vectors to binary class matrices\n",
        "y_train = keras.utils.to_categorical(y_train, num_classes)\n",
        "y_test = keras.utils.to_categorical(y_test, num_classes)\n",
        "\n",
        "model = Sequential()\n",
        "model.add(Dense(512, activation='relu', input_shape=(784,)))\n",
        "model.add(Dropout(0.2))\n",
        "model.add(Dense(512, activation='relu'))\n",
        "model.add(Dropout(0.2))\n",
        "model.add(Dense(num_classes, activation='softmax'))\n",
        "\n",
        "model.summary()\n",
        "\n",
        "model.compile(loss='categorical_crossentropy',\n",
        "              optimizer=RMSprop(),\n",
        "              metrics=['accuracy'])\n",
        "\n",
        "history = model.fit(x_train, y_train,\n",
        "                    batch_size=batch_size,\n",
        "                    epochs=epochs,\n",
        "                    verbose=1,\n",
        "                    validation_data=(x_test, y_test))\n",
        "score = model.evaluate(x_test, y_test, verbose=0)\n",
        "print('Test loss:', score[0])\n",
        "print('Test accuracy:', score[1])"
      ],
      "execution_count": 1,
      "outputs": [
        {
          "output_type": "stream",
          "text": [
            "Downloading data from https://storage.googleapis.com/tensorflow/tf-keras-datasets/mnist.npz\n",
            "11493376/11490434 [==============================] - 0s 0us/step\n",
            "60000 train samples\n",
            "10000 test samples\n",
            "Model: \"sequential\"\n",
            "_________________________________________________________________\n",
            "Layer (type)                 Output Shape              Param #   \n",
            "=================================================================\n",
            "dense (Dense)                (None, 512)               401920    \n",
            "_________________________________________________________________\n",
            "dropout (Dropout)            (None, 512)               0         \n",
            "_________________________________________________________________\n",
            "dense_1 (Dense)              (None, 512)               262656    \n",
            "_________________________________________________________________\n",
            "dropout_1 (Dropout)          (None, 512)               0         \n",
            "_________________________________________________________________\n",
            "dense_2 (Dense)              (None, 10)                5130      \n",
            "=================================================================\n",
            "Total params: 669,706\n",
            "Trainable params: 669,706\n",
            "Non-trainable params: 0\n",
            "_________________________________________________________________\n",
            "Epoch 1/20\n",
            "469/469 [==============================] - 10s 20ms/step - loss: 0.4281 - accuracy: 0.8644 - val_loss: 0.1078 - val_accuracy: 0.9663\n",
            "Epoch 2/20\n",
            "469/469 [==============================] - 9s 19ms/step - loss: 0.1090 - accuracy: 0.9666 - val_loss: 0.0865 - val_accuracy: 0.9725\n",
            "Epoch 3/20\n",
            "469/469 [==============================] - 9s 19ms/step - loss: 0.0753 - accuracy: 0.9767 - val_loss: 0.0760 - val_accuracy: 0.9760\n",
            "Epoch 4/20\n",
            "469/469 [==============================] - 9s 19ms/step - loss: 0.0612 - accuracy: 0.9815 - val_loss: 0.0685 - val_accuracy: 0.9804\n",
            "Epoch 5/20\n",
            "469/469 [==============================] - 9s 19ms/step - loss: 0.0488 - accuracy: 0.9848 - val_loss: 0.0750 - val_accuracy: 0.9810\n",
            "Epoch 6/20\n",
            "469/469 [==============================] - 9s 19ms/step - loss: 0.0411 - accuracy: 0.9880 - val_loss: 0.0814 - val_accuracy: 0.9794\n",
            "Epoch 7/20\n",
            "469/469 [==============================] - 9s 19ms/step - loss: 0.0363 - accuracy: 0.9894 - val_loss: 0.0726 - val_accuracy: 0.9830\n",
            "Epoch 8/20\n",
            "469/469 [==============================] - 9s 19ms/step - loss: 0.0298 - accuracy: 0.9906 - val_loss: 0.0962 - val_accuracy: 0.9805\n",
            "Epoch 9/20\n",
            "469/469 [==============================] - 9s 19ms/step - loss: 0.0296 - accuracy: 0.9911 - val_loss: 0.0974 - val_accuracy: 0.9806\n",
            "Epoch 10/20\n",
            "469/469 [==============================] - 9s 19ms/step - loss: 0.0277 - accuracy: 0.9918 - val_loss: 0.1020 - val_accuracy: 0.9800\n",
            "Epoch 11/20\n",
            "469/469 [==============================] - 9s 19ms/step - loss: 0.0244 - accuracy: 0.9927 - val_loss: 0.1245 - val_accuracy: 0.9772\n",
            "Epoch 12/20\n",
            "469/469 [==============================] - 9s 19ms/step - loss: 0.0208 - accuracy: 0.9939 - val_loss: 0.1002 - val_accuracy: 0.9813\n",
            "Epoch 13/20\n",
            "469/469 [==============================] - 9s 19ms/step - loss: 0.0214 - accuracy: 0.9938 - val_loss: 0.1064 - val_accuracy: 0.9825\n",
            "Epoch 14/20\n",
            "469/469 [==============================] - 9s 19ms/step - loss: 0.0191 - accuracy: 0.9939 - val_loss: 0.1090 - val_accuracy: 0.9832\n",
            "Epoch 15/20\n",
            "469/469 [==============================] - 9s 19ms/step - loss: 0.0212 - accuracy: 0.9937 - val_loss: 0.1019 - val_accuracy: 0.9835\n",
            "Epoch 16/20\n",
            "469/469 [==============================] - 9s 19ms/step - loss: 0.0187 - accuracy: 0.9947 - val_loss: 0.1177 - val_accuracy: 0.9823\n",
            "Epoch 17/20\n",
            "469/469 [==============================] - 9s 19ms/step - loss: 0.0211 - accuracy: 0.9948 - val_loss: 0.1279 - val_accuracy: 0.9819\n",
            "Epoch 18/20\n",
            "469/469 [==============================] - 9s 19ms/step - loss: 0.0185 - accuracy: 0.9949 - val_loss: 0.1270 - val_accuracy: 0.9825\n",
            "Epoch 19/20\n",
            "469/469 [==============================] - 9s 19ms/step - loss: 0.0171 - accuracy: 0.9955 - val_loss: 0.1342 - val_accuracy: 0.9831\n",
            "Epoch 20/20\n",
            "469/469 [==============================] - 9s 19ms/step - loss: 0.0163 - accuracy: 0.9957 - val_loss: 0.1502 - val_accuracy: 0.9804\n",
            "Test loss: 0.1501551866531372\n",
            "Test accuracy: 0.980400025844574\n"
          ],
          "name": "stdout"
        }
      ]
    }
  ]
}